{
  "cells": [
    {
      "cell_type": "markdown",
      "metadata": {
        "id": "view-in-github",
        "colab_type": "text"
      },
      "source": [
        "<a href=\"https://colab.research.google.com/github/Larissabraz/AtividadesbootcampMIA/blob/main/4%2C_bootcamp_MIA.ipynb\" target=\"_parent\"><img src=\"https://colab.research.google.com/assets/colab-badge.svg\" alt=\"Open In Colab\"/></a>"
      ]
    },
    {
      "cell_type": "code",
      "source": [
        "# Célula para executar no colab e ter acesso aos arquivos que estão no Google Drive\n",
        "# Descomente caso isso seja necessário\n",
        "\n",
        "from google.colab import drive\n",
        "drive.mount('/content/drive')\n",
        "\n",
        "# o resultado da celula te dirá em qual pasta você consegue acessar o seu drive"
      ],
      "metadata": {
        "colab": {
          "base_uri": "https://localhost:8080/"
        },
        "id": "PIJvYDEme0sd",
        "outputId": "5335985d-5cdb-437c-e551-de5cde26690e"
      },
      "execution_count": null,
      "outputs": [
        {
          "output_type": "stream",
          "name": "stdout",
          "text": [
            "Mounted at /content/drive\n"
          ]
        }
      ]
    },
    {
      "cell_type": "code",
      "source": [
        "import seaborn as sns\n",
        "import matplotlib.pyplot as plt\n",
        "import pandas as pd\n",
        "import re\n",
        "%matplotlib inline"
      ],
      "metadata": {
        "id": "H0Gsn9K7ekDP"
      },
      "execution_count": null,
      "outputs": []
    },
    {
      "cell_type": "code",
      "source": [
        "# lendo o arquivo e vendo a cabeça da tabela\n",
        "\n",
        "df = pd.read_csv('dados.csv')\n",
        "df.head()"
      ],
      "metadata": {
        "colab": {
          "base_uri": "https://localhost:8080/",
          "height": 716
        },
        "id": "cSO-majgqEY9",
        "outputId": "455058ac-af14-454d-e156-b747290890f7"
      },
      "execution_count": null,
      "outputs": [
        {
          "output_type": "execute_result",
          "data": {
            "text/plain": [
              "   Unnamed: 0  Idade     Genero  UF Regiao_origem   Nivel Ensino  \\\n",
              "0           0   38.0  Masculino  CE           NaN  Pós-graduação   \n",
              "1           1   39.0  Masculino  BA       Sudeste  Pós-graduação   \n",
              "2           2   30.0  Masculino  SC           NaN  Pós-graduação   \n",
              "3           3   38.0   Feminino  SP           NaN  Pós-graduação   \n",
              "4           4   36.0  Masculino  SC           NaN  Pós-graduação   \n",
              "\n",
              "                                       Area Formacao  \\\n",
              "0                                   Química / Física   \n",
              "1  Economia/ Administração / Contabilidade / Fina...   \n",
              "2  Computação / Engenharia de Software / Sistemas...   \n",
              "3                                             Outras   \n",
              "4                                 Outras Engenharias   \n",
              "\n",
              "                  Situacao Trabalho        Setor  Trabalha como Gestao  ...  \\\n",
              "0                   Empregado (CLT)    Marketing                   1.0  ...   \n",
              "1  Empreendedor ou Empregado (CNPJ)  Consultoria                   1.0  ...   \n",
              "2                   Empregado (CLT)    Indústria                   1.0  ...   \n",
              "3  Empreendedor ou Empregado (CNPJ)     Serviços                   1.0  ...   \n",
              "4  Empreendedor ou Empregado (CNPJ)       Varejo                   1.0  ...   \n",
              "\n",
              "  Cargo Atual   Nivel                    Faixa Salarial  \\\n",
              "0         NaN  Gestor    de R$ 4.001/mês a R$ 6.000/mês   \n",
              "1         NaN  Gestor    de R$ 6.001/mês a R$ 8.000/mês   \n",
              "2         NaN  Gestor   de R$ 8.001/mês a R$ 12.000/mês   \n",
              "3         NaN  Gestor  de R$ 12.001/mês a R$ 16.000/mês   \n",
              "4         NaN  Gestor   de R$ 8.001/mês a R$ 12.000/mês   \n",
              "\n",
              "                          Insatisfacao com a Empresa Tempo XP em Dados  \\\n",
              "0                                                NaN   Mais de 10 anos   \n",
              "1                                                NaN     de 2 a 3 anos   \n",
              "2             O clima de trabalho/ambiente não é bom     de 1 a 2 anos   \n",
              "3           Falta de maturidade analítica na empresa   Mais de 10 anos   \n",
              "4  Gostaria de trabalhar em em outra área de atua...     de 1 a 2 anos   \n",
              "\n",
              "                                Tempo XP em Software  \\\n",
              "0  Não tive experiência na área de TI/Engenharia ...   \n",
              "1  Não tive experiência na área de TI/Engenharia ...   \n",
              "2                                      de 2 a 3 anos   \n",
              "3                                     Menos de 1 ano   \n",
              "4                                      de 4 a 5 anos   \n",
              "\n",
              "                       Criterios de escolha trabalho  \\\n",
              "0                                         Benefícios   \n",
              "1                   Flexibilidade de trabalho remoto   \n",
              "2  Oportunidade de aprendizado e trabalhar com re...   \n",
              "3  Propósito do trabalho e da empresa, Flexibilid...   \n",
              "4  Maturidade da empresa em termos de tecnologia ...   \n",
              "\n",
              "                             Forma de trabalho atual  \\\n",
              "0                             Modelo 100% presencial   \n",
              "1  Modelo híbrido flexível (o funcionário tem lib...   \n",
              "2                             Modelo 100% presencial   \n",
              "3                             Modelo 100% presencial   \n",
              "4                             Modelo 100% presencial   \n",
              "\n",
              "                          Forma de trabalho desejada Faixa Salarial_number  \n",
              "0  Modelo híbrido com dias fixos de trabalho pres...                6000.0  \n",
              "1                                 Modelo 100% remoto                8000.0  \n",
              "2                                 Modelo 100% remoto               12000.0  \n",
              "3  Modelo híbrido com dias fixos de trabalho pres...               16000.0  \n",
              "4                                 Modelo 100% remoto               12000.0  \n",
              "\n",
              "[5 rows x 21 columns]"
            ],
            "text/html": [
              "\n",
              "  <div id=\"df-e42ef810-6498-4a65-b925-5bc0e89a6adb\">\n",
              "    <div class=\"colab-df-container\">\n",
              "      <div>\n",
              "<style scoped>\n",
              "    .dataframe tbody tr th:only-of-type {\n",
              "        vertical-align: middle;\n",
              "    }\n",
              "\n",
              "    .dataframe tbody tr th {\n",
              "        vertical-align: top;\n",
              "    }\n",
              "\n",
              "    .dataframe thead th {\n",
              "        text-align: right;\n",
              "    }\n",
              "</style>\n",
              "<table border=\"1\" class=\"dataframe\">\n",
              "  <thead>\n",
              "    <tr style=\"text-align: right;\">\n",
              "      <th></th>\n",
              "      <th>Unnamed: 0</th>\n",
              "      <th>Idade</th>\n",
              "      <th>Genero</th>\n",
              "      <th>UF</th>\n",
              "      <th>Regiao_origem</th>\n",
              "      <th>Nivel Ensino</th>\n",
              "      <th>Area Formacao</th>\n",
              "      <th>Situacao Trabalho</th>\n",
              "      <th>Setor</th>\n",
              "      <th>Trabalha como Gestao</th>\n",
              "      <th>...</th>\n",
              "      <th>Cargo Atual</th>\n",
              "      <th>Nivel</th>\n",
              "      <th>Faixa Salarial</th>\n",
              "      <th>Insatisfacao com a Empresa</th>\n",
              "      <th>Tempo XP em Dados</th>\n",
              "      <th>Tempo XP em Software</th>\n",
              "      <th>Criterios de escolha trabalho</th>\n",
              "      <th>Forma de trabalho atual</th>\n",
              "      <th>Forma de trabalho desejada</th>\n",
              "      <th>Faixa Salarial_number</th>\n",
              "    </tr>\n",
              "  </thead>\n",
              "  <tbody>\n",
              "    <tr>\n",
              "      <th>0</th>\n",
              "      <td>0</td>\n",
              "      <td>38.0</td>\n",
              "      <td>Masculino</td>\n",
              "      <td>CE</td>\n",
              "      <td>NaN</td>\n",
              "      <td>Pós-graduação</td>\n",
              "      <td>Química / Física</td>\n",
              "      <td>Empregado (CLT)</td>\n",
              "      <td>Marketing</td>\n",
              "      <td>1.0</td>\n",
              "      <td>...</td>\n",
              "      <td>NaN</td>\n",
              "      <td>Gestor</td>\n",
              "      <td>de R$ 4.001/mês a R$ 6.000/mês</td>\n",
              "      <td>NaN</td>\n",
              "      <td>Mais de 10 anos</td>\n",
              "      <td>Não tive experiência na área de TI/Engenharia ...</td>\n",
              "      <td>Benefícios</td>\n",
              "      <td>Modelo 100% presencial</td>\n",
              "      <td>Modelo híbrido com dias fixos de trabalho pres...</td>\n",
              "      <td>6000.0</td>\n",
              "    </tr>\n",
              "    <tr>\n",
              "      <th>1</th>\n",
              "      <td>1</td>\n",
              "      <td>39.0</td>\n",
              "      <td>Masculino</td>\n",
              "      <td>BA</td>\n",
              "      <td>Sudeste</td>\n",
              "      <td>Pós-graduação</td>\n",
              "      <td>Economia/ Administração / Contabilidade / Fina...</td>\n",
              "      <td>Empreendedor ou Empregado (CNPJ)</td>\n",
              "      <td>Consultoria</td>\n",
              "      <td>1.0</td>\n",
              "      <td>...</td>\n",
              "      <td>NaN</td>\n",
              "      <td>Gestor</td>\n",
              "      <td>de R$ 6.001/mês a R$ 8.000/mês</td>\n",
              "      <td>NaN</td>\n",
              "      <td>de 2 a 3 anos</td>\n",
              "      <td>Não tive experiência na área de TI/Engenharia ...</td>\n",
              "      <td>Flexibilidade de trabalho remoto</td>\n",
              "      <td>Modelo híbrido flexível (o funcionário tem lib...</td>\n",
              "      <td>Modelo 100% remoto</td>\n",
              "      <td>8000.0</td>\n",
              "    </tr>\n",
              "    <tr>\n",
              "      <th>2</th>\n",
              "      <td>2</td>\n",
              "      <td>30.0</td>\n",
              "      <td>Masculino</td>\n",
              "      <td>SC</td>\n",
              "      <td>NaN</td>\n",
              "      <td>Pós-graduação</td>\n",
              "      <td>Computação / Engenharia de Software / Sistemas...</td>\n",
              "      <td>Empregado (CLT)</td>\n",
              "      <td>Indústria</td>\n",
              "      <td>1.0</td>\n",
              "      <td>...</td>\n",
              "      <td>NaN</td>\n",
              "      <td>Gestor</td>\n",
              "      <td>de R$ 8.001/mês a R$ 12.000/mês</td>\n",
              "      <td>O clima de trabalho/ambiente não é bom</td>\n",
              "      <td>de 1 a 2 anos</td>\n",
              "      <td>de 2 a 3 anos</td>\n",
              "      <td>Oportunidade de aprendizado e trabalhar com re...</td>\n",
              "      <td>Modelo 100% presencial</td>\n",
              "      <td>Modelo 100% remoto</td>\n",
              "      <td>12000.0</td>\n",
              "    </tr>\n",
              "    <tr>\n",
              "      <th>3</th>\n",
              "      <td>3</td>\n",
              "      <td>38.0</td>\n",
              "      <td>Feminino</td>\n",
              "      <td>SP</td>\n",
              "      <td>NaN</td>\n",
              "      <td>Pós-graduação</td>\n",
              "      <td>Outras</td>\n",
              "      <td>Empreendedor ou Empregado (CNPJ)</td>\n",
              "      <td>Serviços</td>\n",
              "      <td>1.0</td>\n",
              "      <td>...</td>\n",
              "      <td>NaN</td>\n",
              "      <td>Gestor</td>\n",
              "      <td>de R$ 12.001/mês a R$ 16.000/mês</td>\n",
              "      <td>Falta de maturidade analítica na empresa</td>\n",
              "      <td>Mais de 10 anos</td>\n",
              "      <td>Menos de 1 ano</td>\n",
              "      <td>Propósito do trabalho e da empresa, Flexibilid...</td>\n",
              "      <td>Modelo 100% presencial</td>\n",
              "      <td>Modelo híbrido com dias fixos de trabalho pres...</td>\n",
              "      <td>16000.0</td>\n",
              "    </tr>\n",
              "    <tr>\n",
              "      <th>4</th>\n",
              "      <td>4</td>\n",
              "      <td>36.0</td>\n",
              "      <td>Masculino</td>\n",
              "      <td>SC</td>\n",
              "      <td>NaN</td>\n",
              "      <td>Pós-graduação</td>\n",
              "      <td>Outras Engenharias</td>\n",
              "      <td>Empreendedor ou Empregado (CNPJ)</td>\n",
              "      <td>Varejo</td>\n",
              "      <td>1.0</td>\n",
              "      <td>...</td>\n",
              "      <td>NaN</td>\n",
              "      <td>Gestor</td>\n",
              "      <td>de R$ 8.001/mês a R$ 12.000/mês</td>\n",
              "      <td>Gostaria de trabalhar em em outra área de atua...</td>\n",
              "      <td>de 1 a 2 anos</td>\n",
              "      <td>de 4 a 5 anos</td>\n",
              "      <td>Maturidade da empresa em termos de tecnologia ...</td>\n",
              "      <td>Modelo 100% presencial</td>\n",
              "      <td>Modelo 100% remoto</td>\n",
              "      <td>12000.0</td>\n",
              "    </tr>\n",
              "  </tbody>\n",
              "</table>\n",
              "<p>5 rows × 21 columns</p>\n",
              "</div>\n",
              "      <button class=\"colab-df-convert\" onclick=\"convertToInteractive('df-e42ef810-6498-4a65-b925-5bc0e89a6adb')\"\n",
              "              title=\"Convert this dataframe to an interactive table.\"\n",
              "              style=\"display:none;\">\n",
              "        \n",
              "  <svg xmlns=\"http://www.w3.org/2000/svg\" height=\"24px\"viewBox=\"0 0 24 24\"\n",
              "       width=\"24px\">\n",
              "    <path d=\"M0 0h24v24H0V0z\" fill=\"none\"/>\n",
              "    <path d=\"M18.56 5.44l.94 2.06.94-2.06 2.06-.94-2.06-.94-.94-2.06-.94 2.06-2.06.94zm-11 1L8.5 8.5l.94-2.06 2.06-.94-2.06-.94L8.5 2.5l-.94 2.06-2.06.94zm10 10l.94 2.06.94-2.06 2.06-.94-2.06-.94-.94-2.06-.94 2.06-2.06.94z\"/><path d=\"M17.41 7.96l-1.37-1.37c-.4-.4-.92-.59-1.43-.59-.52 0-1.04.2-1.43.59L10.3 9.45l-7.72 7.72c-.78.78-.78 2.05 0 2.83L4 21.41c.39.39.9.59 1.41.59.51 0 1.02-.2 1.41-.59l7.78-7.78 2.81-2.81c.8-.78.8-2.07 0-2.86zM5.41 20L4 18.59l7.72-7.72 1.47 1.35L5.41 20z\"/>\n",
              "  </svg>\n",
              "      </button>\n",
              "      \n",
              "  <style>\n",
              "    .colab-df-container {\n",
              "      display:flex;\n",
              "      flex-wrap:wrap;\n",
              "      gap: 12px;\n",
              "    }\n",
              "\n",
              "    .colab-df-convert {\n",
              "      background-color: #E8F0FE;\n",
              "      border: none;\n",
              "      border-radius: 50%;\n",
              "      cursor: pointer;\n",
              "      display: none;\n",
              "      fill: #1967D2;\n",
              "      height: 32px;\n",
              "      padding: 0 0 0 0;\n",
              "      width: 32px;\n",
              "    }\n",
              "\n",
              "    .colab-df-convert:hover {\n",
              "      background-color: #E2EBFA;\n",
              "      box-shadow: 0px 1px 2px rgba(60, 64, 67, 0.3), 0px 1px 3px 1px rgba(60, 64, 67, 0.15);\n",
              "      fill: #174EA6;\n",
              "    }\n",
              "\n",
              "    [theme=dark] .colab-df-convert {\n",
              "      background-color: #3B4455;\n",
              "      fill: #D2E3FC;\n",
              "    }\n",
              "\n",
              "    [theme=dark] .colab-df-convert:hover {\n",
              "      background-color: #434B5C;\n",
              "      box-shadow: 0px 1px 3px 1px rgba(0, 0, 0, 0.15);\n",
              "      filter: drop-shadow(0px 1px 2px rgba(0, 0, 0, 0.3));\n",
              "      fill: #FFFFFF;\n",
              "    }\n",
              "  </style>\n",
              "\n",
              "      <script>\n",
              "        const buttonEl =\n",
              "          document.querySelector('#df-e42ef810-6498-4a65-b925-5bc0e89a6adb button.colab-df-convert');\n",
              "        buttonEl.style.display =\n",
              "          google.colab.kernel.accessAllowed ? 'block' : 'none';\n",
              "\n",
              "        async function convertToInteractive(key) {\n",
              "          const element = document.querySelector('#df-e42ef810-6498-4a65-b925-5bc0e89a6adb');\n",
              "          const dataTable =\n",
              "            await google.colab.kernel.invokeFunction('convertToInteractive',\n",
              "                                                     [key], {});\n",
              "          if (!dataTable) return;\n",
              "\n",
              "          const docLinkHtml = 'Like what you see? Visit the ' +\n",
              "            '<a target=\"_blank\" href=https://colab.research.google.com/notebooks/data_table.ipynb>data table notebook</a>'\n",
              "            + ' to learn more about interactive tables.';\n",
              "          element.innerHTML = '';\n",
              "          dataTable['output_type'] = 'display_data';\n",
              "          await google.colab.output.renderOutput(dataTable, element);\n",
              "          const docLink = document.createElement('div');\n",
              "          docLink.innerHTML = docLinkHtml;\n",
              "          element.appendChild(docLink);\n",
              "        }\n",
              "      </script>\n",
              "    </div>\n",
              "  </div>\n",
              "  "
            ]
          },
          "metadata": {},
          "execution_count": 4
        }
      ]
    },
    {
      "cell_type": "code",
      "source": [
        "len(df)"
      ],
      "metadata": {
        "colab": {
          "base_uri": "https://localhost:8080/"
        },
        "id": "xFt9LKli4stM",
        "outputId": "1ad830c0-0a40-412c-9b76-d2d766fb9264"
      },
      "execution_count": null,
      "outputs": [
        {
          "output_type": "execute_result",
          "data": {
            "text/plain": [
              "2365"
            ]
          },
          "metadata": {},
          "execution_count": 5
        }
      ]
    },
    {
      "cell_type": "markdown",
      "source": [
        "**\\<TAREFA PARA CASA> Distribuição de Cargos**"
      ],
      "metadata": {
        "id": "qj2xnfzCHkyp"
      }
    },
    {
      "cell_type": "code",
      "source": [
        "# contar a quantidade de cargos\n",
        "df['Cargo Atual'].value_counts()"
      ],
      "metadata": {
        "colab": {
          "base_uri": "https://localhost:8080/"
        },
        "id": "kq9kpJ5G5ZEr",
        "outputId": "540c1495-d58d-4cdc-b95c-c32b7ce384b3"
      },
      "execution_count": null,
      "outputs": [
        {
          "output_type": "execute_result",
          "data": {
            "text/plain": [
              "Cientista de Dados/Data Scientist                          357\n",
              "Analista de BI/BI Analyst/Analytics Engineer               338\n",
              "Analista de Dados/Data Analyst                             324\n",
              "Engenheiro de Dados/Data Engineer                          300\n",
              "Outro                                                      113\n",
              "Analista de Negócios/Business Analyst                       96\n",
              "Desenvolvedor ou Engenheiro de Software                     92\n",
              "Engenheiro de Machine Learning/ML Engineer                  48\n",
              "Outras Engenharias (não inclui dev)                         33\n",
              "Estatístico                                                 25\n",
              "Analista Administrativo                                     18\n",
              "Analista de Inteligência de Mercado/Market Intelligence     18\n",
              "Analista de Marketing                                       14\n",
              "DBA/Administrador de Banco de Dados                         14\n",
              "Analista de Sistemas/Analista de TI                         14\n",
              "Técnico                                                     13\n",
              "Suporte Técnico                                             13\n",
              "Professor                                                   12\n",
              "Arquiteto de Dados                                           7\n",
              "Product Manager                                              6\n",
              "Arquiteto de dados                                           2\n",
              "Name: Cargo Atual, dtype: int64"
            ]
          },
          "metadata": {},
          "execution_count": 6
        }
      ]
    },
    {
      "cell_type": "code",
      "source": [
        "# verificando os NA\n",
        "\n",
        "df.isna().sum()"
      ],
      "metadata": {
        "id": "n95_KpAaHy4p",
        "colab": {
          "base_uri": "https://localhost:8080/"
        },
        "outputId": "535e1f12-247a-4ada-ab4e-431002c38623"
      },
      "execution_count": null,
      "outputs": [
        {
          "output_type": "execute_result",
          "data": {
            "text/plain": [
              "Unnamed: 0                          0\n",
              "Idade                              24\n",
              "Genero                              0\n",
              "UF                                 26\n",
              "Regiao_origem                    1934\n",
              "Nivel Ensino                        0\n",
              "Area Formacao                      54\n",
              "Situacao Trabalho                   0\n",
              "Setor                               0\n",
              "Trabalha como Gestao                0\n",
              "Cargo como Gestor(a)             1857\n",
              "Cargo Atual                       508\n",
              "Nivel                               0\n",
              "Faixa Salarial                      0\n",
              "Insatisfacao com a Empresa       1753\n",
              "Tempo XP em Dados                   0\n",
              "Tempo XP em Software                0\n",
              "Criterios de escolha trabalho      14\n",
              "Forma de trabalho atual             0\n",
              "Forma de trabalho desejada          0\n",
              "Faixa Salarial_number               0\n",
              "dtype: int64"
            ]
          },
          "metadata": {},
          "execution_count": 7
        }
      ]
    },
    {
      "cell_type": "code",
      "source": [
        "# substituir os valores faltantes por \"NA\"\n",
        "\n",
        "df['Cargo Atual'].fillna('NA', inplace=True)"
      ],
      "metadata": {
        "id": "pYfD_bdxIDqa"
      },
      "execution_count": null,
      "outputs": []
    },
    {
      "cell_type": "code",
      "source": [
        "sns.countplot(y='Cargo Atual', data=df, palette=\"Spectral\", order=df['Cargo Atual'].value_counts().index) \\\n",
        ".set_title(\"Distribuição de cargos\")\n",
        "plt.xlabel('Total')\n"
      ],
      "metadata": {
        "id": "8zXyuUpfJ3K7",
        "outputId": "cca0cecd-ae6f-410f-e01b-5082181c7230",
        "colab": {
          "base_uri": "https://localhost:8080/",
          "height": 312
        }
      },
      "execution_count": null,
      "outputs": [
        {
          "output_type": "execute_result",
          "data": {
            "text/plain": [
              "Text(0.5, 0, 'Total')"
            ]
          },
          "metadata": {},
          "execution_count": 9
        },
        {
          "output_type": "display_data",
          "data": {
            "text/plain": [
              "<Figure size 432x288 with 1 Axes>"
            ],
            "image/png": "[encoded data removed]"
          },
          "metadata": {
            "needs_background": "light"
          }
        }
      ]
    },
    {
      "cell_type": "markdown",
      "source": [
        "**Vamos agora analisar a distribuição de nível por gênero:**"
      ],
      "metadata": {
        "id": "BwqMeSNZQVwi"
      }
    },
    {
      "cell_type": "markdown",
      "source": [
        "# **TAREFA PARA CASA**\n",
        "Analise a diferença de salario para gestão, olhar a coluna: \"Cargo como Gestor(a)\"\n",
        "Analise a diferença por formação, olhar as colunas \"Nivel Ensino\" e \"Area Formacao\""
      ],
      "metadata": {
        "id": "uwR32O_Y2FwA"
      }
    },
    {
      "cell_type": "code",
      "source": [
        "df['Trabalha como Gestao'].value_counts()"
      ],
      "metadata": {
        "id": "MnAwuVq12KBf",
        "outputId": "c188e04d-d936-4360-80e1-688b08f8fbf5",
        "colab": {
          "base_uri": "https://localhost:8080/"
        }
      },
      "execution_count": null,
      "outputs": [
        {
          "output_type": "execute_result",
          "data": {
            "text/plain": [
              "0.0    1857\n",
              "1.0     508\n",
              "Name: Trabalha como Gestao, dtype: int64"
            ]
          },
          "metadata": {},
          "execution_count": 10
        }
      ]
    },
    {
      "cell_type": "code",
      "source": [
        "df1 = df[df['Genero'].str.contains('Masculino', na=False)]"
      ],
      "metadata": {
        "id": "dDuzmRvG2i5w"
      },
      "execution_count": null,
      "outputs": []
    },
    {
      "cell_type": "code",
      "source": [
        "tmp = df1.groupby(['Trabalha como Gestao'])['Faixa Salarial_number'].mean()"
      ],
      "metadata": {
        "id": "M-izyxFA2nYA"
      },
      "execution_count": null,
      "outputs": []
    },
    {
      "cell_type": "code",
      "source": [
        "tmp.head()"
      ],
      "metadata": {
        "id": "15iGI1iI2yJi",
        "outputId": "35d8026f-983e-4bbf-e23e-234988ef3258",
        "colab": {
          "base_uri": "https://localhost:8080/"
        }
      },
      "execution_count": null,
      "outputs": [
        {
          "output_type": "execute_result",
          "data": {
            "text/plain": [
              "Trabalha como Gestao\n",
              "0.0     9361.429535\n",
              "1.0    17072.562358\n",
              "Name: Faixa Salarial_number, dtype: float64"
            ]
          },
          "metadata": {},
          "execution_count": 13
        }
      ]
    },
    {
      "cell_type": "code",
      "source": [
        "tmp = tmp.reset_index(name='Salario Medio')\n",
        "tmp.head()"
      ],
      "metadata": {
        "id": "cOgeRU2-20th",
        "outputId": "ba51022a-1b26-49e5-cf26-3cb1c677da44",
        "colab": {
          "base_uri": "https://localhost:8080/",
          "height": 112
        }
      },
      "execution_count": null,
      "outputs": [
        {
          "output_type": "execute_result",
          "data": {
            "text/plain": [
              "   Trabalha como Gestao  Salario Medio\n",
              "0                   0.0    9361.429535\n",
              "1                   1.0   17072.562358"
            ],
            "text/html": [
              "\n",
              "  <div id=\"df-007ba358-428a-4c1a-9314-ff2266482404\">\n",
              "    <div class=\"colab-df-container\">\n",
              "      <div>\n",
              "<style scoped>\n",
              "    .dataframe tbody tr th:only-of-type {\n",
              "        vertical-align: middle;\n",
              "    }\n",
              "\n",
              "    .dataframe tbody tr th {\n",
              "        vertical-align: top;\n",
              "    }\n",
              "\n",
              "    .dataframe thead th {\n",
              "        text-align: right;\n",
              "    }\n",
              "</style>\n",
              "<table border=\"1\" class=\"dataframe\">\n",
              "  <thead>\n",
              "    <tr style=\"text-align: right;\">\n",
              "      <th></th>\n",
              "      <th>Trabalha como Gestao</th>\n",
              "      <th>Salario Medio</th>\n",
              "    </tr>\n",
              "  </thead>\n",
              "  <tbody>\n",
              "    <tr>\n",
              "      <th>0</th>\n",
              "      <td>0.0</td>\n",
              "      <td>9361.429535</td>\n",
              "    </tr>\n",
              "    <tr>\n",
              "      <th>1</th>\n",
              "      <td>1.0</td>\n",
              "      <td>17072.562358</td>\n",
              "    </tr>\n",
              "  </tbody>\n",
              "</table>\n",
              "</div>\n",
              "      <button class=\"colab-df-convert\" onclick=\"convertToInteractive('df-007ba358-428a-4c1a-9314-ff2266482404')\"\n",
              "              title=\"Convert this dataframe to an interactive table.\"\n",
              "              style=\"display:none;\">\n",
              "        \n",
              "  <svg xmlns=\"http://www.w3.org/2000/svg\" height=\"24px\"viewBox=\"0 0 24 24\"\n",
              "       width=\"24px\">\n",
              "    <path d=\"M0 0h24v24H0V0z\" fill=\"none\"/>\n",
              "    <path d=\"M18.56 5.44l.94 2.06.94-2.06 2.06-.94-2.06-.94-.94-2.06-.94 2.06-2.06.94zm-11 1L8.5 8.5l.94-2.06 2.06-.94-2.06-.94L8.5 2.5l-.94 2.06-2.06.94zm10 10l.94 2.06.94-2.06 2.06-.94-2.06-.94-.94-2.06-.94 2.06-2.06.94z\"/><path d=\"M17.41 7.96l-1.37-1.37c-.4-.4-.92-.59-1.43-.59-.52 0-1.04.2-1.43.59L10.3 9.45l-7.72 7.72c-.78.78-.78 2.05 0 2.83L4 21.41c.39.39.9.59 1.41.59.51 0 1.02-.2 1.41-.59l7.78-7.78 2.81-2.81c.8-.78.8-2.07 0-2.86zM5.41 20L4 18.59l7.72-7.72 1.47 1.35L5.41 20z\"/>\n",
              "  </svg>\n",
              "      </button>\n",
              "      \n",
              "  <style>\n",
              "    .colab-df-container {\n",
              "      display:flex;\n",
              "      flex-wrap:wrap;\n",
              "      gap: 12px;\n",
              "    }\n",
              "\n",
              "    .colab-df-convert {\n",
              "      background-color: #E8F0FE;\n",
              "      border: none;\n",
              "      border-radius: 50%;\n",
              "      cursor: pointer;\n",
              "      display: none;\n",
              "      fill: #1967D2;\n",
              "      height: 32px;\n",
              "      padding: 0 0 0 0;\n",
              "      width: 32px;\n",
              "    }\n",
              "\n",
              "    .colab-df-convert:hover {\n",
              "      background-color: #E2EBFA;\n",
              "      box-shadow: 0px 1px 2px rgba(60, 64, 67, 0.3), 0px 1px 3px 1px rgba(60, 64, 67, 0.15);\n",
              "      fill: #174EA6;\n",
              "    }\n",
              "\n",
              "    [theme=dark] .colab-df-convert {\n",
              "      background-color: #3B4455;\n",
              "      fill: #D2E3FC;\n",
              "    }\n",
              "\n",
              "    [theme=dark] .colab-df-convert:hover {\n",
              "      background-color: #434B5C;\n",
              "      box-shadow: 0px 1px 3px 1px rgba(0, 0, 0, 0.15);\n",
              "      filter: drop-shadow(0px 1px 2px rgba(0, 0, 0, 0.3));\n",
              "      fill: #FFFFFF;\n",
              "    }\n",
              "  </style>\n",
              "\n",
              "      <script>\n",
              "        const buttonEl =\n",
              "          document.querySelector('#df-007ba358-428a-4c1a-9314-ff2266482404 button.colab-df-convert');\n",
              "        buttonEl.style.display =\n",
              "          google.colab.kernel.accessAllowed ? 'block' : 'none';\n",
              "\n",
              "        async function convertToInteractive(key) {\n",
              "          const element = document.querySelector('#df-007ba358-428a-4c1a-9314-ff2266482404');\n",
              "          const dataTable =\n",
              "            await google.colab.kernel.invokeFunction('convertToInteractive',\n",
              "                                                     [key], {});\n",
              "          if (!dataTable) return;\n",
              "\n",
              "          const docLinkHtml = 'Like what you see? Visit the ' +\n",
              "            '<a target=\"_blank\" href=https://colab.research.google.com/notebooks/data_table.ipynb>data table notebook</a>'\n",
              "            + ' to learn more about interactive tables.';\n",
              "          element.innerHTML = '';\n",
              "          dataTable['output_type'] = 'display_data';\n",
              "          await google.colab.output.renderOutput(dataTable, element);\n",
              "          const docLink = document.createElement('div');\n",
              "          docLink.innerHTML = docLinkHtml;\n",
              "          element.appendChild(docLink);\n",
              "        }\n",
              "      </script>\n",
              "    </div>\n",
              "  </div>\n",
              "  "
            ]
          },
          "metadata": {},
          "execution_count": 14
        }
      ]
    },
    {
      "cell_type": "code",
      "source": [
        "plt.figure(figsize=(20,10))\n",
        "sns.barplot(x='Trabalha como Gestao', y='Salario Medio', data=tmp, palette='Spectral')\n"
      ],
      "metadata": {
        "id": "4CK6w12B3FHZ",
        "outputId": "828759d0-d81e-4816-b1b8-fe30ff6a7612",
        "colab": {
          "base_uri": "https://localhost:8080/",
          "height": 623
        }
      },
      "execution_count": null,
      "outputs": [
        {
          "output_type": "execute_result",
          "data": {
            "text/plain": [
              "<matplotlib.axes._subplots.AxesSubplot at 0x7f1aa436a4d0>"
            ]
          },
          "metadata": {},
          "execution_count": 15
        },
        {
          "output_type": "display_data",
          "data": {
            "text/plain": [
              "<Figure size 1440x720 with 1 Axes>"
            ],
            "image/png": "[encoded data removed]"
          },
          "metadata": {
            "needs_background": "light"
          }
        }
      ]
    },
    {
      "cell_type": "code",
      "source": [
        "tmp = df.groupby(['Genero', 'Trabalha como Gestao'])['Faixa Salarial_number'].mean()\n",
        "tmp = tmp.reset_index(name='Salario Medio')\n",
        "plt.figure(figsize=(20,10))\n",
        "sns.barplot(x='Trabalha como Gestao', y='Salario Medio', hue='Genero', data=tmp, hue_order=['Masculino', 'Feminino', 'Outro'], palette='Spectral')"
      ],
      "metadata": {
        "id": "olSp5hmj3M8J",
        "colab": {
          "base_uri": "https://localhost:8080/",
          "height": 623
        },
        "outputId": "93fdcd9d-7f98-4515-f70b-0a374967d73c"
      },
      "execution_count": null,
      "outputs": [
        {
          "output_type": "execute_result",
          "data": {
            "text/plain": [
              "<matplotlib.axes._subplots.AxesSubplot at 0x7f1aa3d631d0>"
            ]
          },
          "metadata": {},
          "execution_count": 17
        },
        {
          "output_type": "display_data",
          "data": {
            "text/plain": [
              "<Figure size 1440x720 with 1 Axes>"
            ],
            "image/png": "[encoded data removed]"
          },
          "metadata": {
            "needs_background": "light"
          }
        }
      ]
    },
    {
      "cell_type": "code",
      "source": [
        "# Verificando quais os niveis de ensino\n",
        "df['Nivel Ensino'].value_counts()"
      ],
      "metadata": {
        "colab": {
          "base_uri": "https://localhost:8080/"
        },
        "id": "Apz3w5JPs-O0",
        "outputId": "cbd5e99e-3031-4e24-d77a-22d5bc14df07"
      },
      "execution_count": null,
      "outputs": [
        {
          "output_type": "execute_result",
          "data": {
            "text/plain": [
              "Graduação/Bacharelado         830\n",
              "Pós-graduação                 778\n",
              "Mestrado                      307\n",
              "Estudante de Graduação        299\n",
              "Doutorado ou Phd               97\n",
              "Não tenho graduação formal     51\n",
              "Prefiro não informar            3\n",
              "Name: Nivel Ensino, dtype: int64"
            ]
          },
          "metadata": {},
          "execution_count": 18
        }
      ]
    },
    {
      "cell_type": "code",
      "source": [
        "## plotando o gráfico \n",
        "tmp = df.groupby(['Genero', 'Nivel Ensino'])['Faixa Salarial_number'].mean()\n",
        "tmp = tmp.reset_index(name='Salario Medio')\n",
        "plt.figure(figsize=(20,10))\n",
        "sns.barplot(x='Nivel Ensino', y='Salario Medio', hue='Genero', data=tmp, hue_order=['Feminino', 'Masculino', 'Outro'], palette='Spectral')"
      ],
      "metadata": {
        "colab": {
          "base_uri": "https://localhost:8080/",
          "height": 623
        },
        "id": "zTTmpz1KtCD8",
        "outputId": "69616db5-eaa1-4fda-c5d3-e4032c167b95"
      },
      "execution_count": null,
      "outputs": [
        {
          "output_type": "execute_result",
          "data": {
            "text/plain": [
              "<matplotlib.axes._subplots.AxesSubplot at 0x7f1aa3cf1f50>"
            ]
          },
          "metadata": {},
          "execution_count": 21
        },
        {
          "output_type": "display_data",
          "data": {
            "text/plain": [
              "<Figure size 1440x720 with 1 Axes>"
            ],
            "image/png": "[encoded data removed]"
          },
          "metadata": {
            "needs_background": "light"
          }
        }
      ]
    },
    {
      "cell_type": "code",
      "source": [],
      "metadata": {
        "id": "AfHROz6us3gG"
      },
      "execution_count": null,
      "outputs": []
    }
  ],
  "metadata": {
    "colab": {
      "collapsed_sections": [],
      "provenance": [],
      "include_colab_link": true
    },
    "kernelspec": {
      "display_name": "Python 3",
      "name": "python3"
    }
  },
  "nbformat": 4,
  "nbformat_minor": 0
}
